{
  "nbformat": 4,
  "nbformat_minor": 0,
  "metadata": {
    "colab": {
      "name": "Buscar_Dados_Excel_e_Colocar_em_Lista_com_Openpyxl",
      "provenance": [],
      "collapsed_sections": [],
      "authorship_tag": "ABX9TyPn4eY543o8iskNG/kXPe4t",
      "include_colab_link": true
    },
    "kernelspec": {
      "name": "python3",
      "display_name": "Python 3"
    }
  },
  "cells": [
    {
      "cell_type": "markdown",
      "metadata": {
        "id": "view-in-github",
        "colab_type": "text"
      },
      "source": [
        "<a href=\"https://colab.research.google.com/github/EzequielFelipeBorgelt/COLAB-Data-Analysis/blob/main/Buscar_Dados_Excel_e_Colocar_em_Lista_com_Openpyxl.ipynb\" target=\"_parent\"><img src=\"https://colab.research.google.com/assets/colab-badge.svg\" alt=\"Open In Colab\"/></a>"
      ]
    },
    {
      "cell_type": "code",
      "source": [
        "from openpyxl import workbook, load_workbook\n",
        "arquivo = load_workbook('Barcodes_Soles_Classic.xlsx')\n",
        "aba_ativa = arquivo.active\n",
        "\n",
        "nova_referencia=[]\n",
        "for rows in aba_ativa[\"A\"]:\n",
        "  nova_referencia.append(rows.value)\n",
        "print(nova_referencia)\n",
        "  \n",
        "\n"
      ],
      "metadata": {
        "colab": {
          "base_uri": "https://localhost:8080/"
        },
        "id": "Zz44-22kyB0H",
        "outputId": "83daaac6-8a67-4eda-9110-9031c8b19317"
      },
      "execution_count": 2,
      "outputs": [
        {
          "output_type": "stream",
          "name": "stdout",
          "text": [
            "['REFERENCIAS', 'AC28', 'AC29', 'CH791VG', 'JZ85', 'RDE8099', 'SD130', 'SL161', 'SL162', 'SL165', 'SL166', 'SL167', 'SL168', 'SL169', 'SL170', 'SL171', 'SL172', 'SL173', 'SL174', 'SL175', 'SL176', 'SL177', 'SL178', 'SL179', 'SL182', 'SL183', 'SL184', 'SL185', 'TA25', 'TA26', 'UG209', 'UG210', 'UG211', 'UG212', 'UG213', 'UG214', 'UG215', 'UG216', 'UG217', 'UG218', 'UG219', 'UG220', 'UG221', 'UG222']\n"
          ]
        }
      ]
    },
    {
      "cell_type": "markdown",
      "source": [
        "# New Section"
      ],
      "metadata": {
        "id": "6zxgxdjFyvfR"
      }
    }
  ]
}